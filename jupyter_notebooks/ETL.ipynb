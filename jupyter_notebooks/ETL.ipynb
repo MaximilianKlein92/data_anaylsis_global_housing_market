{
  "cells": [
    {
      "cell_type": "markdown",
      "metadata": {
        "id": "0aStgWSO0E0E"
      },
      "source": [
        "# **ETL for Globel housing Market Data Set**"
      ]
    },
    {
      "cell_type": "markdown",
      "metadata": {
        "id": "1eLEkw5O0ECa"
      },
      "source": [
        "## Objectives\n",
        "\n",
        "Understandung the Europien Housing Matked from 2015 to 2024\n",
        "View the csv-file from Kaggle \n",
        "Clean it\n",
        "Focus only on European Countrys for better comparability and intrest\n",
        "\n",
        "## Inputs\n",
        "\n",
        "in the Folder Data/raw/global_housing_market_extended.csv drom the years 2015-2024\n",
        "\n",
        "## Outputs\n",
        "\n",
        "I will generate a europe_housing_market.csv because my focus is only the europe housing market. I will place it in Data/processed/\n",
        "\n",
        "## Additional Comments\n",
        "\n",
        "Aim: Looking at Europe housing market to determan if and when it was a better time to buy a living space\n",
        "\n",
        "Buissness Requirements: Are there possible factors thad aid the housing markets affordability and you use these markers to see if you should by now or wait.\n",
        "\n",
        "Hypothesis: It is better to buy a house in Crisis/Corona Times.\n",
        "\n",
        "I assuming the european housing market is more ar less independent from the global market. \n",
        "\n"
      ]
    },
    {
      "cell_type": "markdown",
      "metadata": {
        "id": "9uWZXH9LwoQg"
      },
      "source": [
        "---"
      ]
    },
    {
      "cell_type": "markdown",
      "metadata": {
        "id": "cqP-UeN-z3i2"
      },
      "source": [
        "# Change working directory"
      ]
    },
    {
      "cell_type": "markdown",
      "metadata": {},
      "source": [
        "* We are assuming you will store the notebooks in a subfolder, therefore when running the notebook in the editor, you will need to change the working directory"
      ]
    },
    {
      "cell_type": "markdown",
      "metadata": {
        "id": "aOGIGS-uz3i2"
      },
      "source": [
        "We need to change the working directory from its current folder to its parent folder\n",
        "* We access the current directory with os.getcwd()"
      ]
    },
    {
      "cell_type": "code",
      "execution_count": 1,
      "metadata": {
        "id": "wZfF_j-Bz3i4",
        "outputId": "66943449-1436-4c3d-85c7-b85f9f78349b"
      },
      "outputs": [
        {
          "data": {
            "text/plain": [
              "'c:\\\\Users\\\\abcde\\\\Documents\\\\VS Code Projects\\\\Europa-Housing-Market\\\\data_anaylsis_global_housing_market\\\\jupyter_notebooks'"
            ]
          },
          "execution_count": 1,
          "metadata": {},
          "output_type": "execute_result"
        }
      ],
      "source": [
        "import os\n",
        "current_dir = os.getcwd()\n",
        "current_dir"
      ]
    },
    {
      "cell_type": "markdown",
      "metadata": {
        "id": "9MWW8E7lz3i7"
      },
      "source": [
        "We want to make the parent of the current directory the new current directory\n",
        "* os.path.dirname() gets the parent directory\n",
        "* os.chir() defines the new current directory"
      ]
    },
    {
      "cell_type": "code",
      "execution_count": 2,
      "metadata": {
        "id": "TwHsQRWjz3i9",
        "outputId": "86849db3-cd2f-4cc5-ebb8-2d0caafa1a2c"
      },
      "outputs": [
        {
          "name": "stdout",
          "output_type": "stream",
          "text": [
            "You set a new current directory\n"
          ]
        }
      ],
      "source": [
        "os.chdir(os.path.dirname(current_dir))\n",
        "print(\"You set a new current directory\")"
      ]
    },
    {
      "cell_type": "markdown",
      "metadata": {
        "id": "M_xPk_Ijz3i-"
      },
      "source": [
        "Confirm the new current directory"
      ]
    },
    {
      "cell_type": "code",
      "execution_count": 3,
      "metadata": {
        "id": "vz3S-_kjz3jA",
        "outputId": "00b79ae4-75d0-4a96-d193-ac9ef9847ea2"
      },
      "outputs": [
        {
          "data": {
            "text/plain": [
              "'c:\\\\Users\\\\abcde\\\\Documents\\\\VS Code Projects\\\\Europa-Housing-Market\\\\data_anaylsis_global_housing_market'"
            ]
          },
          "execution_count": 3,
          "metadata": {},
          "output_type": "execute_result"
        }
      ],
      "source": [
        "current_dir = os.getcwd()\n",
        "current_dir"
      ]
    },
    {
      "cell_type": "markdown",
      "metadata": {
        "id": "-mavJ8DibrcQ"
      },
      "source": [
        "# Section 1 - Extraction"
      ]
    },
    {
      "cell_type": "markdown",
      "metadata": {},
      "source": [
        "Import all nessessary libarys\n",
        "\n",
        "Loading the .csv file from the Data/raw folder in into a pandas dataframe"
      ]
    },
    {
      "cell_type": "code",
      "execution_count": 14,
      "metadata": {},
      "outputs": [],
      "source": [
        "import pandas as pd\n",
        "import numpy as np\n",
        "import matplotlib.pyplot as plt\n"
      ]
    },
    {
      "cell_type": "code",
      "execution_count": 15,
      "metadata": {},
      "outputs": [],
      "source": [
        "df = pd.read_csv(\"Data/raw/global_housing_market_extended.csv\")"
      ]
    },
    {
      "cell_type": "markdown",
      "metadata": {
        "id": "ZY3l0-AxO93d"
      },
      "source": [
        "---"
      ]
    },
    {
      "cell_type": "markdown",
      "metadata": {},
      "source": [
        "# Section 2 - Transformation"
      ]
    },
    {
      "cell_type": "markdown",
      "metadata": {},
      "source": [
        "Imspect the generall shape of the data"
      ]
    },
    {
      "cell_type": "code",
      "execution_count": 37,
      "metadata": {},
      "outputs": [
        {
          "data": {
            "text/plain": [
              "(200, 11)"
            ]
          },
          "execution_count": 37,
          "metadata": {},
          "output_type": "execute_result"
        }
      ],
      "source": [
        "df.shape"
      ]
    },
    {
      "cell_type": "markdown",
      "metadata": {},
      "source": [
        "So we have 11 categories (colums) and 200 rows\n",
        "we know the data is from 2015-2024 (10 Years)\n",
        "witch means we got 20 Countrys. (200 / 10 = 20)\n",
        "\n",
        "Lets see whitch ones:\n",
        "1. therefore we need the name of the colum \n",
        "2. print all the unique values in it"
      ]
    },
    {
      "cell_type": "code",
      "execution_count": 38,
      "metadata": {},
      "outputs": [
        {
          "data": {
            "text/html": [
              "<div>\n",
              "<style scoped>\n",
              "    .dataframe tbody tr th:only-of-type {\n",
              "        vertical-align: middle;\n",
              "    }\n",
              "\n",
              "    .dataframe tbody tr th {\n",
              "        vertical-align: top;\n",
              "    }\n",
              "\n",
              "    .dataframe thead th {\n",
              "        text-align: right;\n",
              "    }\n",
              "</style>\n",
              "<table border=\"1\" class=\"dataframe\">\n",
              "  <thead>\n",
              "    <tr style=\"text-align: right;\">\n",
              "      <th></th>\n",
              "      <th>Country</th>\n",
              "      <th>Year</th>\n",
              "      <th>House Price Index</th>\n",
              "      <th>Rent Index</th>\n",
              "      <th>Affordability Ratio</th>\n",
              "      <th>Mortgage Rate (%)</th>\n",
              "      <th>Inflation Rate (%)</th>\n",
              "      <th>GDP Growth (%)</th>\n",
              "      <th>Population Growth (%)</th>\n",
              "      <th>Urbanization Rate (%)</th>\n",
              "      <th>Construction Index</th>\n",
              "    </tr>\n",
              "  </thead>\n",
              "  <tbody>\n",
              "    <tr>\n",
              "      <th>0</th>\n",
              "      <td>USA</td>\n",
              "      <td>2015</td>\n",
              "      <td>117.454012</td>\n",
              "      <td>116.550001</td>\n",
              "      <td>9.587945</td>\n",
              "      <td>4.493292</td>\n",
              "      <td>1.514121</td>\n",
              "      <td>-0.752044</td>\n",
              "      <td>-0.796707</td>\n",
              "      <td>85.985284</td>\n",
              "      <td>118.089201</td>\n",
              "    </tr>\n",
              "  </tbody>\n",
              "</table>\n",
              "</div>"
            ],
            "text/plain": [
              "  Country  Year  House Price Index  Rent Index  Affordability Ratio  \\\n",
              "0     USA  2015         117.454012  116.550001             9.587945   \n",
              "\n",
              "   Mortgage Rate (%)  Inflation Rate (%)  GDP Growth (%)  \\\n",
              "0           4.493292            1.514121       -0.752044   \n",
              "\n",
              "   Population Growth (%)  Urbanization Rate (%)  Construction Index  \n",
              "0              -0.796707              85.985284          118.089201  "
            ]
          },
          "execution_count": 38,
          "metadata": {},
          "output_type": "execute_result"
        }
      ],
      "source": [
        "df.head(1)"
      ]
    },
    {
      "cell_type": "code",
      "execution_count": 39,
      "metadata": {},
      "outputs": [
        {
          "data": {
            "text/plain": [
              "array(['USA', 'Canada', 'UK', 'Germany', 'France', 'Italy', 'Spain',\n",
              "       'Australia', 'India', 'China', 'Japan', 'Brazil', 'South Korea',\n",
              "       'Mexico', 'South Africa', 'Russia', 'Netherlands', 'Sweden',\n",
              "       'Switzerland', 'UAE'], dtype=object)"
            ]
          },
          "execution_count": 39,
          "metadata": {},
          "output_type": "execute_result"
        }
      ],
      "source": [
        "df[\"Country\"].unique()\n"
      ]
    },
    {
      "cell_type": "markdown",
      "metadata": {},
      "source": [
        "I am only intrested in the European Countrys, so I will filter the non European Countrys out. I will use .copy() to avoid changes to the original data frame. I also have to set a new index. "
      ]
    },
    {
      "cell_type": "code",
      "execution_count": 40,
      "metadata": {},
      "outputs": [],
      "source": [
        "european_countries = ['UK', 'Germany', 'France', 'Italy', 'Spain',\n",
        "                       'Netherlands', 'Sweden', 'Switzerland']"
      ]
    },
    {
      "cell_type": "code",
      "execution_count": 77,
      "metadata": {},
      "outputs": [],
      "source": [
        "# Add a space after or (or at the start of the next string) otherwise it gives an \n",
        "# syntax error\n",
        "\n",
        "df_europe = df.query(\n",
        "    \"Country == 'UK' or Country == 'Germany' or Country == 'France' or \" \n",
        "    \"Country == 'Italy' or Country == 'Spain' or \"\n",
        "    \"Country == 'Netherlands' or Country == 'Sweden' or Country == 'Switzerland'\"\n",
        ").copy().reset_index(drop=True)    "
      ]
    },
    {
      "cell_type": "code",
      "execution_count": 73,
      "metadata": {},
      "outputs": [],
      "source": [
        "# also possible to choose it from the list\n",
        "\n",
        "df_europe = df.query(\"Country in @european_countries\").copy()"
      ]
    },
    {
      "cell_type": "markdown",
      "metadata": {},
      "source": [
        "Checking for missing values "
      ]
    },
    {
      "cell_type": "code",
      "execution_count": 43,
      "metadata": {},
      "outputs": [
        {
          "data": {
            "text/plain": [
              "Country                  0\n",
              "Year                     0\n",
              "House Price Index        0\n",
              "Rent Index               0\n",
              "Affordability Ratio      0\n",
              "Mortgage Rate (%)        0\n",
              "Inflation Rate (%)       0\n",
              "GDP Growth (%)           0\n",
              "Population Growth (%)    0\n",
              "Urbanization Rate (%)    0\n",
              "Construction Index       0\n",
              "dtype: int64"
            ]
          },
          "execution_count": 43,
          "metadata": {},
          "output_type": "execute_result"
        }
      ],
      "source": [
        "df_europe.isnull().sum()"
      ]
    },
    {
      "cell_type": "markdown",
      "metadata": {},
      "source": [
        "No missing values so no handling of them nessessary\n",
        "\n",
        "Looking at the generell data discription:"
      ]
    },
    {
      "cell_type": "code",
      "execution_count": 44,
      "metadata": {},
      "outputs": [
        {
          "data": {
            "text/html": [
              "<div>\n",
              "<style scoped>\n",
              "    .dataframe tbody tr th:only-of-type {\n",
              "        vertical-align: middle;\n",
              "    }\n",
              "\n",
              "    .dataframe tbody tr th {\n",
              "        vertical-align: top;\n",
              "    }\n",
              "\n",
              "    .dataframe thead th {\n",
              "        text-align: right;\n",
              "    }\n",
              "</style>\n",
              "<table border=\"1\" class=\"dataframe\">\n",
              "  <thead>\n",
              "    <tr style=\"text-align: right;\">\n",
              "      <th></th>\n",
              "      <th>Year</th>\n",
              "      <th>House Price Index</th>\n",
              "      <th>Rent Index</th>\n",
              "      <th>Affordability Ratio</th>\n",
              "      <th>Mortgage Rate (%)</th>\n",
              "      <th>Inflation Rate (%)</th>\n",
              "      <th>GDP Growth (%)</th>\n",
              "      <th>Population Growth (%)</th>\n",
              "      <th>Urbanization Rate (%)</th>\n",
              "      <th>Construction Index</th>\n",
              "    </tr>\n",
              "  </thead>\n",
              "  <tbody>\n",
              "    <tr>\n",
              "      <th>count</th>\n",
              "      <td>80.000000</td>\n",
              "      <td>80.000000</td>\n",
              "      <td>80.000000</td>\n",
              "      <td>80.000000</td>\n",
              "      <td>80.000000</td>\n",
              "      <td>80.000000</td>\n",
              "      <td>80.000000</td>\n",
              "      <td>80.000000</td>\n",
              "      <td>80.000000</td>\n",
              "      <td>80.000000</td>\n",
              "    </tr>\n",
              "    <tr>\n",
              "      <th>mean</th>\n",
              "      <td>2019.500000</td>\n",
              "      <td>135.096650</td>\n",
              "      <td>81.951944</td>\n",
              "      <td>7.372344</td>\n",
              "      <td>4.140649</td>\n",
              "      <td>3.748487</td>\n",
              "      <td>2.267197</td>\n",
              "      <td>0.750687</td>\n",
              "      <td>76.284496</td>\n",
              "      <td>108.888005</td>\n",
              "    </tr>\n",
              "    <tr>\n",
              "      <th>std</th>\n",
              "      <td>2.890403</td>\n",
              "      <td>30.113909</td>\n",
              "      <td>21.103101</td>\n",
              "      <td>2.610658</td>\n",
              "      <td>1.431151</td>\n",
              "      <td>1.816557</td>\n",
              "      <td>2.399475</td>\n",
              "      <td>0.976172</td>\n",
              "      <td>8.608194</td>\n",
              "      <td>24.767316</td>\n",
              "    </tr>\n",
              "    <tr>\n",
              "      <th>min</th>\n",
              "      <td>2015.000000</td>\n",
              "      <td>84.341253</td>\n",
              "      <td>50.354311</td>\n",
              "      <td>3.097539</td>\n",
              "      <td>1.537814</td>\n",
              "      <td>0.667777</td>\n",
              "      <td>-1.883643</td>\n",
              "      <td>-0.960262</td>\n",
              "      <td>60.172760</td>\n",
              "      <td>71.151479</td>\n",
              "    </tr>\n",
              "    <tr>\n",
              "      <th>25%</th>\n",
              "      <td>2017.000000</td>\n",
              "      <td>107.590335</td>\n",
              "      <td>59.742106</td>\n",
              "      <td>4.983839</td>\n",
              "      <td>3.159588</td>\n",
              "      <td>2.157388</td>\n",
              "      <td>0.208080</td>\n",
              "      <td>-0.137664</td>\n",
              "      <td>69.679703</td>\n",
              "      <td>85.437888</td>\n",
              "    </tr>\n",
              "    <tr>\n",
              "      <th>50%</th>\n",
              "      <td>2019.500000</td>\n",
              "      <td>135.382826</td>\n",
              "      <td>80.199599</td>\n",
              "      <td>7.610122</td>\n",
              "      <td>4.235876</td>\n",
              "      <td>3.961111</td>\n",
              "      <td>2.470141</td>\n",
              "      <td>0.792585</td>\n",
              "      <td>77.020310</td>\n",
              "      <td>109.973317</td>\n",
              "    </tr>\n",
              "    <tr>\n",
              "      <th>75%</th>\n",
              "      <td>2022.000000</td>\n",
              "      <td>162.337733</td>\n",
              "      <td>100.604665</td>\n",
              "      <td>9.347214</td>\n",
              "      <td>5.399702</td>\n",
              "      <td>5.003581</td>\n",
              "      <td>4.369581</td>\n",
              "      <td>1.574326</td>\n",
              "      <td>84.094190</td>\n",
              "      <td>131.090509</td>\n",
              "    </tr>\n",
              "    <tr>\n",
              "      <th>max</th>\n",
              "      <td>2024.000000</td>\n",
              "      <td>179.971767</td>\n",
              "      <td>119.764579</td>\n",
              "      <td>11.562630</td>\n",
              "      <td>6.452526</td>\n",
              "      <td>6.910370</td>\n",
              "      <td>5.953115</td>\n",
              "      <td>2.497948</td>\n",
              "      <td>89.788944</td>\n",
              "      <td>149.372641</td>\n",
              "    </tr>\n",
              "  </tbody>\n",
              "</table>\n",
              "</div>"
            ],
            "text/plain": [
              "              Year  House Price Index  Rent Index  Affordability Ratio  \\\n",
              "count    80.000000          80.000000   80.000000            80.000000   \n",
              "mean   2019.500000         135.096650   81.951944             7.372344   \n",
              "std       2.890403          30.113909   21.103101             2.610658   \n",
              "min    2015.000000          84.341253   50.354311             3.097539   \n",
              "25%    2017.000000         107.590335   59.742106             4.983839   \n",
              "50%    2019.500000         135.382826   80.199599             7.610122   \n",
              "75%    2022.000000         162.337733  100.604665             9.347214   \n",
              "max    2024.000000         179.971767  119.764579            11.562630   \n",
              "\n",
              "       Mortgage Rate (%)  Inflation Rate (%)  GDP Growth (%)  \\\n",
              "count          80.000000           80.000000       80.000000   \n",
              "mean            4.140649            3.748487        2.267197   \n",
              "std             1.431151            1.816557        2.399475   \n",
              "min             1.537814            0.667777       -1.883643   \n",
              "25%             3.159588            2.157388        0.208080   \n",
              "50%             4.235876            3.961111        2.470141   \n",
              "75%             5.399702            5.003581        4.369581   \n",
              "max             6.452526            6.910370        5.953115   \n",
              "\n",
              "       Population Growth (%)  Urbanization Rate (%)  Construction Index  \n",
              "count              80.000000              80.000000           80.000000  \n",
              "mean                0.750687              76.284496          108.888005  \n",
              "std                 0.976172               8.608194           24.767316  \n",
              "min                -0.960262              60.172760           71.151479  \n",
              "25%                -0.137664              69.679703           85.437888  \n",
              "50%                 0.792585              77.020310          109.973317  \n",
              "75%                 1.574326              84.094190          131.090509  \n",
              "max                 2.497948              89.788944          149.372641  "
            ]
          },
          "execution_count": 44,
          "metadata": {},
          "output_type": "execute_result"
        }
      ],
      "source": [
        "df_europe.describe()"
      ]
    },
    {
      "cell_type": "markdown",
      "metadata": {},
      "source": [
        "The years should be converted to Datetime. I use .dt.to_periode the show its a yearsperiode and not a single day (idea provided by ChatGPT)"
      ]
    },
    {
      "cell_type": "code",
      "execution_count": 78,
      "metadata": {},
      "outputs": [
        {
          "data": {
            "text/plain": [
              "0    2015\n",
              "1    2016\n",
              "2    2017\n",
              "3    2018\n",
              "4    2019\n",
              "Name: Year, dtype: period[A-DEC]"
            ]
          },
          "execution_count": 78,
          "metadata": {},
          "output_type": "execute_result"
        }
      ],
      "source": [
        "df_europe[\"Year\"] = (pd.to_datetime(df_europe[\"Year\"].astype(str), format=\"%Y\")\n",
        "                                    .dt.to_period(\"Y\"))\n",
        "df_europe[\"Year\"].head(5)   "
      ]
    },
    {
      "cell_type": "code",
      "execution_count": 85,
      "metadata": {},
      "outputs": [
        {
          "data": {
            "text/plain": [
              "dtype('O')"
            ]
          },
          "execution_count": 85,
          "metadata": {},
          "output_type": "execute_result"
        }
      ],
      "source": [
        "df_europe[\"Country\"] = df_europe[\"Country\"].astype(object)\n",
        "df_europe[\"Country\"].dtype"
      ]
    },
    {
      "cell_type": "code",
      "execution_count": 81,
      "metadata": {},
      "outputs": [
        {
          "data": {
            "text/plain": [
              "['Country',\n",
              " 'Year',\n",
              " 'House Price Index',\n",
              " 'Rent Index',\n",
              " 'Affordability Ratio',\n",
              " 'Mortgage Rate (%)',\n",
              " 'Inflation Rate (%)',\n",
              " 'GDP Growth (%)',\n",
              " 'Population Growth (%)',\n",
              " 'Urbanization Rate (%)',\n",
              " 'Construction Index']"
            ]
          },
          "execution_count": 81,
          "metadata": {},
          "output_type": "execute_result"
        }
      ],
      "source": [
        "df_europe.columns.to_list()"
      ]
    },
    {
      "cell_type": "markdown",
      "metadata": {},
      "source": [
        "Load into a csv and let post it into Data/Processed\n",
        "\n"
      ]
    },
    {
      "cell_type": "code",
      "execution_count": 105,
      "metadata": {},
      "outputs": [],
      "source": [
        "df_europe.to_csv(\"data/processed/europe_housing_market.csv\")"
      ]
    },
    {
      "cell_type": "markdown",
      "metadata": {},
      "source": [
        "## Understaning the other colums\n",
        "Discrption provided by ChatGPT and the Dataset discription in Kaggle\n",
        "\n",
        "1. 'House Price Index'($):\n",
        "- House Price ($)\tThe average price of houses in USD 💰\n",
        "- Index of residential property prices (base = 100 in a chosen year)\n",
        "- Tracks %-change in sale prices over time (hedonic/repeat-sales methods)\n",
        "- Higher = pricier homes.\n",
        "\n",
        "\n",
        "2. 'Rent Index'($)\n",
        "- The median monthly rent for properties in USD 🏠\n",
        "- Index of market rents (base = 100). Tracks %-change in asking/contract rents. \n",
        "- Higher = more expensive renting.\n",
        "\n",
        "\n",
        "3. 'Affordability Ratio'\n",
        "- Measure of housing affordability. Common forms:\n",
        "– Price-to-Income = median house price / median annual household income.\n",
        "– Payment-to-Income = monthly mortgage payment / monthly income.\n",
        "- Higher = less affordable.\n",
        "\n",
        "\n",
        "4. 'Mortgage Rate (%)'\n",
        "- The average mortgage interest rate percentage 📉\n",
        "- Average nominal annual interest rate on new home loans (often fixed-rate offers). - Higher = costlier financing.\n",
        "\n",
        "\n",
        "5. 'Inflation Rate (%)'\n",
        "- Year-over-year change in CPI (consumer prices). \n",
        "- Higher = faster general price increases.\n",
        "\n",
        "\n",
        "6. 'GDP Growth (%)'\n",
        "- The annual GDP growth percentage 📈\n",
        "- Real (inflation-adjusted) year-over-year growth of gross domestic product\n",
        "- Higher = stronger economy.\n",
        "\n",
        "7. 'Population Growth (%)'\n",
        "- The percentage increase in population over the year 👥\n",
        "- Annual growth rate of resident population.\n",
        "- Higher = more demand pressure (often supports prices/rents).\n",
        "\n",
        "8. 'Urbanization Rate (%)'\n",
        "- percentage of the population living in urban areas 🏙️\n",
        "- Share of population living in urban areas (level, not a growth rate). \n",
        "- Higher = more urban concentration.\n",
        "\n",
        "9. 'Construction Index'\n",
        "- Index of construction activity/output (base = 100). \n",
        "- Captures building volume or permits.\n",
        "- Higher = more supply in pipeline.\n",
        "\n",
        "Missing categoriy which was mentioned in Kaggle:\n",
        "- Unemployment Rate (%)\tThe percentage of unemployed individuals in the labor force 💼\n",
        "- But I dont see the need for thad metric anywayns"
      ]
    },
    {
      "cell_type": "markdown",
      "metadata": {},
      "source": [
        "Lets see if we can find anything thad correlates with each other"
      ]
    },
    {
      "cell_type": "code",
      "execution_count": 87,
      "metadata": {},
      "outputs": [
        {
          "data": {
            "text/html": [
              "<div>\n",
              "<style scoped>\n",
              "    .dataframe tbody tr th:only-of-type {\n",
              "        vertical-align: middle;\n",
              "    }\n",
              "\n",
              "    .dataframe tbody tr th {\n",
              "        vertical-align: top;\n",
              "    }\n",
              "\n",
              "    .dataframe thead th {\n",
              "        text-align: right;\n",
              "    }\n",
              "</style>\n",
              "<table border=\"1\" class=\"dataframe\">\n",
              "  <thead>\n",
              "    <tr style=\"text-align: right;\">\n",
              "      <th></th>\n",
              "      <th>House Price Index</th>\n",
              "      <th>Rent Index</th>\n",
              "      <th>Affordability Ratio</th>\n",
              "      <th>Mortgage Rate (%)</th>\n",
              "      <th>Inflation Rate (%)</th>\n",
              "      <th>GDP Growth (%)</th>\n",
              "      <th>Population Growth (%)</th>\n",
              "      <th>Urbanization Rate (%)</th>\n",
              "      <th>Construction Index</th>\n",
              "    </tr>\n",
              "  </thead>\n",
              "  <tbody>\n",
              "    <tr>\n",
              "      <th>House Price Index</th>\n",
              "      <td>1.00</td>\n",
              "      <td>0.03</td>\n",
              "      <td>0.02</td>\n",
              "      <td>-0.01</td>\n",
              "      <td>0.05</td>\n",
              "      <td>0.05</td>\n",
              "      <td>-0.04</td>\n",
              "      <td>0.22</td>\n",
              "      <td>-0.25</td>\n",
              "    </tr>\n",
              "    <tr>\n",
              "      <th>Rent Index</th>\n",
              "      <td>0.03</td>\n",
              "      <td>1.00</td>\n",
              "      <td>0.04</td>\n",
              "      <td>0.01</td>\n",
              "      <td>-0.04</td>\n",
              "      <td>0.05</td>\n",
              "      <td>-0.11</td>\n",
              "      <td>0.00</td>\n",
              "      <td>0.04</td>\n",
              "    </tr>\n",
              "    <tr>\n",
              "      <th>Affordability Ratio</th>\n",
              "      <td>0.02</td>\n",
              "      <td>0.04</td>\n",
              "      <td>1.00</td>\n",
              "      <td>0.18</td>\n",
              "      <td>0.05</td>\n",
              "      <td>-0.09</td>\n",
              "      <td>0.04</td>\n",
              "      <td>-0.22</td>\n",
              "      <td>0.04</td>\n",
              "    </tr>\n",
              "    <tr>\n",
              "      <th>Mortgage Rate (%)</th>\n",
              "      <td>-0.01</td>\n",
              "      <td>0.01</td>\n",
              "      <td>0.18</td>\n",
              "      <td>1.00</td>\n",
              "      <td>0.06</td>\n",
              "      <td>0.27</td>\n",
              "      <td>0.01</td>\n",
              "      <td>-0.07</td>\n",
              "      <td>-0.10</td>\n",
              "    </tr>\n",
              "    <tr>\n",
              "      <th>Inflation Rate (%)</th>\n",
              "      <td>0.05</td>\n",
              "      <td>-0.04</td>\n",
              "      <td>0.05</td>\n",
              "      <td>0.06</td>\n",
              "      <td>1.00</td>\n",
              "      <td>0.12</td>\n",
              "      <td>-0.00</td>\n",
              "      <td>-0.02</td>\n",
              "      <td>0.12</td>\n",
              "    </tr>\n",
              "    <tr>\n",
              "      <th>GDP Growth (%)</th>\n",
              "      <td>0.05</td>\n",
              "      <td>0.05</td>\n",
              "      <td>-0.09</td>\n",
              "      <td>0.27</td>\n",
              "      <td>0.12</td>\n",
              "      <td>1.00</td>\n",
              "      <td>-0.04</td>\n",
              "      <td>-0.16</td>\n",
              "      <td>-0.17</td>\n",
              "    </tr>\n",
              "    <tr>\n",
              "      <th>Population Growth (%)</th>\n",
              "      <td>-0.04</td>\n",
              "      <td>-0.11</td>\n",
              "      <td>0.04</td>\n",
              "      <td>0.01</td>\n",
              "      <td>-0.00</td>\n",
              "      <td>-0.04</td>\n",
              "      <td>1.00</td>\n",
              "      <td>-0.00</td>\n",
              "      <td>0.18</td>\n",
              "    </tr>\n",
              "    <tr>\n",
              "      <th>Urbanization Rate (%)</th>\n",
              "      <td>0.22</td>\n",
              "      <td>0.00</td>\n",
              "      <td>-0.22</td>\n",
              "      <td>-0.07</td>\n",
              "      <td>-0.02</td>\n",
              "      <td>-0.16</td>\n",
              "      <td>-0.00</td>\n",
              "      <td>1.00</td>\n",
              "      <td>0.01</td>\n",
              "    </tr>\n",
              "    <tr>\n",
              "      <th>Construction Index</th>\n",
              "      <td>-0.25</td>\n",
              "      <td>0.04</td>\n",
              "      <td>0.04</td>\n",
              "      <td>-0.10</td>\n",
              "      <td>0.12</td>\n",
              "      <td>-0.17</td>\n",
              "      <td>0.18</td>\n",
              "      <td>0.01</td>\n",
              "      <td>1.00</td>\n",
              "    </tr>\n",
              "  </tbody>\n",
              "</table>\n",
              "</div>"
            ],
            "text/plain": [
              "                       House Price Index  Rent Index  Affordability Ratio  \\\n",
              "House Price Index                   1.00        0.03                 0.02   \n",
              "Rent Index                          0.03        1.00                 0.04   \n",
              "Affordability Ratio                 0.02        0.04                 1.00   \n",
              "Mortgage Rate (%)                  -0.01        0.01                 0.18   \n",
              "Inflation Rate (%)                  0.05       -0.04                 0.05   \n",
              "GDP Growth (%)                      0.05        0.05                -0.09   \n",
              "Population Growth (%)              -0.04       -0.11                 0.04   \n",
              "Urbanization Rate (%)               0.22        0.00                -0.22   \n",
              "Construction Index                 -0.25        0.04                 0.04   \n",
              "\n",
              "                       Mortgage Rate (%)  Inflation Rate (%)  GDP Growth (%)  \\\n",
              "House Price Index                  -0.01                0.05            0.05   \n",
              "Rent Index                          0.01               -0.04            0.05   \n",
              "Affordability Ratio                 0.18                0.05           -0.09   \n",
              "Mortgage Rate (%)                   1.00                0.06            0.27   \n",
              "Inflation Rate (%)                  0.06                1.00            0.12   \n",
              "GDP Growth (%)                      0.27                0.12            1.00   \n",
              "Population Growth (%)               0.01               -0.00           -0.04   \n",
              "Urbanization Rate (%)              -0.07               -0.02           -0.16   \n",
              "Construction Index                 -0.10                0.12           -0.17   \n",
              "\n",
              "                       Population Growth (%)  Urbanization Rate (%)  \\\n",
              "House Price Index                      -0.04                   0.22   \n",
              "Rent Index                             -0.11                   0.00   \n",
              "Affordability Ratio                     0.04                  -0.22   \n",
              "Mortgage Rate (%)                       0.01                  -0.07   \n",
              "Inflation Rate (%)                     -0.00                  -0.02   \n",
              "GDP Growth (%)                         -0.04                  -0.16   \n",
              "Population Growth (%)                   1.00                  -0.00   \n",
              "Urbanization Rate (%)                  -0.00                   1.00   \n",
              "Construction Index                      0.18                   0.01   \n",
              "\n",
              "                       Construction Index  \n",
              "House Price Index                   -0.25  \n",
              "Rent Index                           0.04  \n",
              "Affordability Ratio                  0.04  \n",
              "Mortgage Rate (%)                   -0.10  \n",
              "Inflation Rate (%)                   0.12  \n",
              "GDP Growth (%)                      -0.17  \n",
              "Population Growth (%)                0.18  \n",
              "Urbanization Rate (%)                0.01  \n",
              "Construction Index                   1.00  "
            ]
          },
          "execution_count": 87,
          "metadata": {},
          "output_type": "execute_result"
        }
      ],
      "source": [
        "df_europe.corr(numeric_only=True).round(2)"
      ]
    },
    {
      "cell_type": "code",
      "execution_count": 110,
      "metadata": {},
      "outputs": [
        {
          "data": {
            "image/png": "[encoded data removed]",
            "text/plain": [
              "<Figure size 3000x1200 with 10 Axes>"
            ]
          },
          "metadata": {},
          "output_type": "display_data"
        }
      ],
      "source": [
        "# sicherstellen: Jahr numerisch\n",
        "df_europe = df_europe.copy()\n",
        "df_europe[\"Year\"] = pd.to_numeric(df_europe[\"Year\"], errors=\"coerce\")\n",
        "\n",
        "fig, axis = plt.subplots(ncols=5,nrows=2, figsize=(30, 12), sharex=True)\n",
        "\n",
        "# Plot a line for each country\n",
        "for country in df_europe[\"Country\"].unique():\n",
        "    country_data = df_europe[df_europe[\"Country\"] == country]\n",
        "    axis[0,0].plot(country_data[\"Year\"], country_data[\"House Price Index\"], label=country)\n",
        "axis[0,0].set_title(\"House Price Index over time by Country\")\n",
        "axis[0,0].set_ylabel(\"HPI\")\n",
        "axis[0,0].set_xlabel(\"Year\")\n",
        "axis[0,0].legend(title=\"Country\")\n",
        "axis[0,0].set_ylabel(\"Index (base=2015=100)\")\n",
        "\n",
        "plt.tight_layout()\n",
        "plt.show()"
      ]
    },
    {
      "cell_type": "markdown",
      "metadata": {
        "id": "uFQo3ycuO-v6"
      },
      "source": [
        "# Section 3 - Feature Engeneering"
      ]
    },
    {
      "cell_type": "markdown",
      "metadata": {},
      "source": [
        "## Ideas\n",
        "\n",
        "1. Real Rates. Every Rate thad is a Price over time is normalized against the inflation rate to see if a growth bejond the inflation happend\n",
        "\n",
        "2. See how many people more want to live in a city. Therefore the Pop-grothrate and Urbinasation rate together to build an influx into citys number"
      ]
    },
    {
      "cell_type": "markdown",
      "metadata": {},
      "source": [
        "## How would I do this:\n",
        "\n",
        "1. $ g^[real] = \\frac{1+ g^[norm]}{1 + inflation} -1 $"
      ]
    },
    {
      "cell_type": "markdown",
      "metadata": {},
      "source": []
    },
    {
      "cell_type": "markdown",
      "metadata": {},
      "source": [
        "---"
      ]
    },
    {
      "cell_type": "markdown",
      "metadata": {},
      "source": [
        "NOTE"
      ]
    },
    {
      "cell_type": "markdown",
      "metadata": {},
      "source": [
        "* You may add as many sections as you want, as long as it supports your project workflow.\n",
        "* All notebook's cells should be run top-down (you can't create a dynamic wherein a given point you need to go back to a previous cell to execute some task, like go back to a previous cell and refresh a variable content)"
      ]
    },
    {
      "cell_type": "markdown",
      "metadata": {},
      "source": [
        "---"
      ]
    },
    {
      "cell_type": "markdown",
      "metadata": {
        "id": "ltNetd085qHf"
      },
      "source": [
        "# Push files to Repo"
      ]
    },
    {
      "cell_type": "markdown",
      "metadata": {},
      "source": [
        "* In cases where you don't need to push files to Repo, you may replace this section with \"Conclusions and Next Steps\" and state your conclusions and next steps."
      ]
    },
    {
      "cell_type": "code",
      "execution_count": null,
      "metadata": {
        "id": "aKlnIozA4eQO",
        "outputId": "fd09bc1f-adb1-4511-f6ce-492a6af570c0"
      },
      "outputs": [],
      "source": [
        "import os\n",
        "try:\n",
        "  # create your folder here\n",
        "  # os.makedirs(name='')\n",
        "except Exception as e:\n",
        "  print(e)\n"
      ]
    }
  ],
  "metadata": {
    "accelerator": "GPU",
    "colab": {
      "name": "Data Practitioner Jupyter Notebook.ipynb",
      "provenance": [],
      "toc_visible": true
    },
    "kernelspec": {
      "display_name": ".venv",
      "language": "python",
      "name": "python3"
    },
    "language_info": {
      "codemirror_mode": {
        "name": "ipython",
        "version": 3
      },
      "file_extension": ".py",
      "mimetype": "text/x-python",
      "name": "python",
      "nbconvert_exporter": "python",
      "pygments_lexer": "ipython3",
      "version": "3.12.8"
    },
    "orig_nbformat": 2
  },
  "nbformat": 4,
  "nbformat_minor": 2
}
